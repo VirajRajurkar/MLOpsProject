{
 "cells": [
  {
   "cell_type": "markdown",
   "metadata": {},
   "source": [
    "# Neural networks with PyTorch\n",
    "\n",
    "Deep learning networks tend to be massive with dozens or hundreds of layers, that's where the term \"deep\" comes from. You can build one of these deep networks using only weight matrices as we did in the previous notebook, but in general it's very cumbersome and difficult to implement. PyTorch has a nice module `nn` that provides a nice way to efficiently build large neural networks."
   ]
  },
  {
   "cell_type": "code",
   "execution_count": 1,
   "metadata": {
    "collapsed": true
   },
   "outputs": [],
   "source": [
    "# Import necessary packages\n",
    "\n",
    "%matplotlib inline\n",
    "%config InlineBackend.figure_format = 'retina'\n",
    "\n",
    "import helper\n",
    "import matplotlib.pyplot as plt\n",
    "import torch"
   ]
  },
  {
   "cell_type": "markdown",
   "metadata": {},
   "source": [
    "\n",
    "Now we're going to build a larger network that can solve a (formerly) difficult problem, identifying text in an image. Here we'll use the MNIST dataset which consists of greyscale handwritten digits. Each image is 28x28 pixels, you can see a sample below\n",
    "\n",
    "<img src='assets/mnist.png'>\n",
    "\n",
    "Our goal is to build a neural network that can take one of these images and predict the digit in the image.\n",
    "\n",
    "First up, we need to get our dataset. This is provided through the `torchvision` package. The code below will download the MNIST dataset, then create training and test datasets for us. Don't worry too much about the details here, you'll learn more about this later."
   ]
  },
  {
   "cell_type": "code",
   "execution_count": 2,
   "metadata": {
    "collapsed": true
   },
   "outputs": [
    {
     "name": "stdout",
     "output_type": "stream",
     "text": [
      "Downloading http://yann.lecun.com/exdb/mnist/train-images-idx3-ubyte.gz\n",
      "Failed to download (trying next):\n",
      "HTTP Error 403: Forbidden\n",
      "\n",
      "Downloading https://ossci-datasets.s3.amazonaws.com/mnist/train-images-idx3-ubyte.gz\n",
      "Downloading https://ossci-datasets.s3.amazonaws.com/mnist/train-images-idx3-ubyte.gz to /Users/viraj.rajurkar/.pytorch/MNIST_data/MNIST/raw/train-images-idx3-ubyte.gz\n"
     ]
    },
    {
     "name": "stderr",
     "output_type": "stream",
     "text": [
      "100.0%\n"
     ]
    },
    {
     "name": "stdout",
     "output_type": "stream",
     "text": [
      "Extracting /Users/viraj.rajurkar/.pytorch/MNIST_data/MNIST/raw/train-images-idx3-ubyte.gz to /Users/viraj.rajurkar/.pytorch/MNIST_data/MNIST/raw\n",
      "\n",
      "Downloading http://yann.lecun.com/exdb/mnist/train-labels-idx1-ubyte.gz\n",
      "Failed to download (trying next):\n",
      "HTTP Error 403: Forbidden\n",
      "\n",
      "Downloading https://ossci-datasets.s3.amazonaws.com/mnist/train-labels-idx1-ubyte.gz\n",
      "Downloading https://ossci-datasets.s3.amazonaws.com/mnist/train-labels-idx1-ubyte.gz to /Users/viraj.rajurkar/.pytorch/MNIST_data/MNIST/raw/train-labels-idx1-ubyte.gz\n"
     ]
    },
    {
     "name": "stderr",
     "output_type": "stream",
     "text": [
      "100.0%\n"
     ]
    },
    {
     "name": "stdout",
     "output_type": "stream",
     "text": [
      "Extracting /Users/viraj.rajurkar/.pytorch/MNIST_data/MNIST/raw/train-labels-idx1-ubyte.gz to /Users/viraj.rajurkar/.pytorch/MNIST_data/MNIST/raw\n",
      "\n",
      "Downloading http://yann.lecun.com/exdb/mnist/t10k-images-idx3-ubyte.gz\n",
      "Failed to download (trying next):\n",
      "HTTP Error 403: Forbidden\n",
      "\n",
      "Downloading https://ossci-datasets.s3.amazonaws.com/mnist/t10k-images-idx3-ubyte.gz\n",
      "Downloading https://ossci-datasets.s3.amazonaws.com/mnist/t10k-images-idx3-ubyte.gz to /Users/viraj.rajurkar/.pytorch/MNIST_data/MNIST/raw/t10k-images-idx3-ubyte.gz\n"
     ]
    },
    {
     "name": "stderr",
     "output_type": "stream",
     "text": [
      "100.0%\n"
     ]
    },
    {
     "name": "stdout",
     "output_type": "stream",
     "text": [
      "Extracting /Users/viraj.rajurkar/.pytorch/MNIST_data/MNIST/raw/t10k-images-idx3-ubyte.gz to /Users/viraj.rajurkar/.pytorch/MNIST_data/MNIST/raw\n",
      "\n",
      "Downloading http://yann.lecun.com/exdb/mnist/t10k-labels-idx1-ubyte.gz\n",
      "Failed to download (trying next):\n",
      "HTTP Error 403: Forbidden\n",
      "\n",
      "Downloading https://ossci-datasets.s3.amazonaws.com/mnist/t10k-labels-idx1-ubyte.gz\n",
      "Downloading https://ossci-datasets.s3.amazonaws.com/mnist/t10k-labels-idx1-ubyte.gz to /Users/viraj.rajurkar/.pytorch/MNIST_data/MNIST/raw/t10k-labels-idx1-ubyte.gz\n"
     ]
    },
    {
     "name": "stderr",
     "output_type": "stream",
     "text": [
      "100.0%"
     ]
    },
    {
     "name": "stdout",
     "output_type": "stream",
     "text": [
      "Extracting /Users/viraj.rajurkar/.pytorch/MNIST_data/MNIST/raw/t10k-labels-idx1-ubyte.gz to /Users/viraj.rajurkar/.pytorch/MNIST_data/MNIST/raw\n",
      "\n"
     ]
    },
    {
     "name": "stderr",
     "output_type": "stream",
     "text": [
      "\n"
     ]
    }
   ],
   "source": [
    "### Run this cell\n",
    "\n",
    "from torchvision import datasets, transforms\n",
    "\n",
    "# Define a transform to normalize the data\n",
    "transform = transforms.Compose(\n",
    "    [\n",
    "        transforms.ToTensor(),\n",
    "        transforms.Normalize((0.5,), (0.5,)),\n",
    "    ],\n",
    ")\n",
    "\n",
    "# Download and load the training data\n",
    "trainset = datasets.MNIST(\"~/.pytorch/MNIST_data/\", download=True, train=True, transform=transform)\n",
    "trainloader = torch.utils.data.DataLoader(trainset, batch_size=64, shuffle=True)"
   ]
  },
  {
   "cell_type": "markdown",
   "metadata": {},
   "source": [
    "We have the training data loaded into `trainloader` and we make that an iterator with `iter(trainloader)`. Later, we'll use this to loop through the dataset for training, like\n",
    "\n",
    "```python\n",
    "for image, label in trainloader:\n",
    "    ## do things with images and labels\n",
    "```\n",
    "\n",
    "You'll notice I created the `trainloader` with a batch size of 64, and `shuffle=True`. The batch size is the number of images we get in one iteration from the data loader and pass through our network, often called a *batch*. And `shuffle=True` tells it to shuffle the dataset every time we start going through the data loader again. But here I'm just grabbing the first batch so we can check out the data. We can see below that `images` is just a tensor with size `(64, 1, 28, 28)`. So, 64 images per batch, 1 color channel, and 28x28 images."
   ]
  },
  {
   "cell_type": "code",
   "execution_count": 3,
   "metadata": {},
   "outputs": [
    {
     "name": "stdout",
     "output_type": "stream",
     "text": [
      "<class 'torch.Tensor'>\n",
      "torch.Size([64, 1, 28, 28])\n",
      "torch.Size([64])\n"
     ]
    }
   ],
   "source": [
    "dataiter = iter(trainloader)\n",
    "images, labels = next(dataiter)\n",
    "print(type(images))\n",
    "print(images.shape)\n",
    "print(labels.shape)"
   ]
  },
  {
   "cell_type": "markdown",
   "metadata": {},
   "source": [
    "This is what one of the images looks like. "
   ]
  },
  {
   "cell_type": "code",
   "execution_count": 6,
   "metadata": {},
   "outputs": [
    {
     "data": {
      "image/png": "[encoded data removed]",
      "text/plain": [
       "<Figure size 640x480 with 1 Axes>"
      ]
     },
     "metadata": {
      "image/png": {
       "height": 413,
       "width": 417
      }
     },
     "output_type": "display_data"
    }
   ],
   "source": [
    "plt.imshow(images[1].numpy().squeeze(), cmap=\"Greys_r\");"
   ]
  },
  {
   "cell_type": "markdown",
   "metadata": {},
   "source": [
    "First, let's try to build a simple network for this dataset using weight matrices and matrix multiplications. Then, we'll see how to do it using PyTorch's `nn` module which provides a much more convenient and powerful method for defining network architectures.\n",
    "\n",
    "The networks you've seen so far are called *fully-connected* or *dense* networks. Each unit in one layer is connected to each unit in the next layer. In fully-connected networks, the input to each layer must be a one-dimensional vector (which can be stacked into a 2D tensor as a batch of multiple examples). However, our images are 28x28 2D tensors, so we need to convert them into 1D vectors. Thinking about sizes, we need to convert the batch of images with shape `(64, 1, 28, 28)` to a have a shape of `(64, 784)`, 784 is 28 times 28. This is typically called *flattening*, we flattened the 2D images into 1D vectors.\n",
    "\n",
    "Previously you built a network with one output unit. Here we need 10 output units, one for each digit. We want our network to predict the digit shown in an image, so what we'll do is calculate probabilities that the image is of any one digit or class. This ends up being a discrete probability distribution over the classes (digits) that tells us the most likely class for the image. That means we need 10 output units for the 10 classes (digits). We'll see how to convert the network output into a probability distribution next.\n",
    "\n",
    "> **Exercise:** Flatten the batch of images `images`. Then build a multi-layer network with 784 input units, 256 hidden units, and 10 output units using random tensors for the weights and biases. For now, use a sigmoid activation for the hidden layer. Leave the output layer without an activation, we'll add one that gives us a probability distribution next."
   ]
  },
  {
   "cell_type": "code",
   "execution_count": 9,
   "metadata": {
    "collapsed": true
   },
   "outputs": [
    {
     "name": "stdout",
     "output_type": "stream",
     "text": [
      "tensor([[-13.8228,  -6.6441,   3.8490,  -0.8013,  15.1377,   0.3441,  -9.7244,\n",
      "          -0.8971, -14.6166,   0.0909],\n",
      "        [-17.3775,  -2.4500,  -1.5443, -11.6668,   9.1435,  11.2484,  -4.9891,\n",
      "           9.3950,  -5.9370,   2.9858],\n",
      "        [-14.1682, -13.9705,   3.9837, -14.8550,   0.0990,  16.2509,   1.4466,\n",
      "           2.8329, -16.8756,  -3.7971],\n",
      "        [-15.9760,  -9.7266,  -2.4175,  -1.8060,  10.1647,   7.1190,  -0.6360,\n",
      "          -6.9662, -17.6867,  -1.9073],\n",
      "        [-21.1096,  -5.8144, -10.3909, -16.8937,   2.5161,  -1.3800,  -7.1610,\n",
      "           3.4202, -20.4833,   3.6042],\n",
      "        [-16.2566,  -6.6292,   6.1372, -11.8627,   5.1999,   4.0529,  -8.9801,\n",
      "          12.5295, -13.8297,   0.0432],\n",
      "        [-14.5864,  -6.2223,  -7.0272,   4.3867,  -1.2521,  13.2319,   2.3926,\n",
      "          -5.8681, -18.0605,  10.8374],\n",
      "        [-24.5408,  -8.3421,  -4.5669,  -4.0515,  10.0758,   5.7056,  -5.6800,\n",
      "          -9.2583,  -9.6189,  -6.4983],\n",
      "        [-17.6719, -12.9510,   2.5905, -16.4068,  -1.0518,   9.9579,  -4.1171,\n",
      "           3.7163, -12.7553,   0.8265],\n",
      "        [ -7.5359, -13.2130,  -5.2331, -12.8919,   0.1955,   9.0443,  -3.1767,\n",
      "           0.2271, -11.3057,  -3.1489],\n",
      "        [-23.1997,   3.7773,   2.2891,  -7.4552,  -0.2644,   9.1688,   0.6465,\n",
      "         -15.6326, -16.3695,  -3.6062],\n",
      "        [ -6.3338,  -5.8217,   6.9388,  -1.7517,  22.5870,   6.9470, -12.4337,\n",
      "          -3.8916, -16.5263,  -9.5129],\n",
      "        [ -6.8768,   3.2899,   1.3087,  -2.4684,   7.7272,   0.8722,  -5.3354,\n",
      "          -1.4937, -11.6417,  -0.1171],\n",
      "        [-10.8324, -11.2428, -10.2780, -12.2818,   2.7512,   7.9612,  -3.0196,\n",
      "           7.9050,  -9.6682,   8.4354],\n",
      "        [-13.5062,  -5.0433,   0.3855, -11.6572,  10.7570,   6.9966, -13.0236,\n",
      "          10.4432,  -9.3329,  -4.7498],\n",
      "        [ -0.1818,   7.7191,   0.7787, -19.4763,  13.2475,   5.5383,   3.7431,\n",
      "           4.8453, -20.0299,  -9.1428],\n",
      "        [-13.0641,  -1.8498,   2.0186,  -6.5213,  10.2443,   6.8647,  -0.8872,\n",
      "           3.5858,  -9.2748,  -7.6536],\n",
      "        [-15.6487, -14.6777,   2.5302,  -9.5297,   2.8674,  14.1994,  -5.3145,\n",
      "           6.8656, -11.9407,  -1.5261],\n",
      "        [-23.9112, -10.1415,   7.6885,  -8.9796,   2.0206,   6.9243,  -4.0852,\n",
      "          -0.2303, -14.8896, -10.3303],\n",
      "        [-15.0026,   1.7473,  -8.2162,  -3.8686,   6.2294,   3.8128,  -5.3685,\n",
      "           4.5551,  -9.8615,   8.4332],\n",
      "        [-14.4250, -11.3034,  -6.7006, -13.6719,   9.1873,   5.3314,  -8.0670,\n",
      "           3.9231, -14.3887,   0.3130],\n",
      "        [-14.0365, -11.1552,  -0.5708,  -3.7210,  16.0053,  12.1269,  -1.4105,\n",
      "           5.2433, -10.3797,  -0.3312],\n",
      "        [ -3.2886,  -8.8184,   1.5584, -14.9532,  -1.3915,   4.4102,  -9.4391,\n",
      "          -0.8864, -13.4764,   4.5067],\n",
      "        [-16.3214,  -6.2768,   1.4239, -20.0703,  10.2222,   4.9285,   6.0094,\n",
      "           9.2397,  -8.0533,  -8.5890],\n",
      "        [-14.6462,  -1.9113,   1.9969, -18.3793,   2.8420,   3.4156, -12.9045,\n",
      "           9.1865, -19.4701,   6.2618],\n",
      "        [-18.6379,  -9.4061,   1.9388,  -7.7403,  12.1680,  10.1476,   1.6555,\n",
      "           6.4482, -14.8493,   2.9590],\n",
      "        [-16.0839,  -2.9766,  -0.4858, -13.0613,   8.2441,  11.7923, -11.4932,\n",
      "          -7.9440, -17.6637,  -5.5021],\n",
      "        [-17.9613, -21.0182,  -4.0749, -16.3026,   2.5800,  11.0135,  -1.8350,\n",
      "           3.2801, -14.6221,  -4.2024],\n",
      "        [-13.1239,  -1.3217,  -2.6399, -15.2984,   9.4125,   9.0258,  -2.7070,\n",
      "          -0.9697, -13.8752,  -1.7354],\n",
      "        [-20.1619,  -6.0440,  -3.1181,  -9.0911,   9.3106,   1.9623,  -7.1388,\n",
      "           2.9894, -13.9383,  -7.1133],\n",
      "        [-16.8095,  -5.0370,  -0.6762, -18.6773,   9.8928,  11.0669,   3.8611,\n",
      "          12.0226,  -9.2975,  -4.5908],\n",
      "        [-14.3471, -10.4830,   1.5743,  -0.6904,   9.6010,   7.7259,  -2.8666,\n",
      "          -6.8890, -17.5743,  -2.2712],\n",
      "        [-13.3135, -11.1149,  -6.1989, -16.9097,   9.6508,  10.3529,  -2.3979,\n",
      "          13.8585,  -8.5378,  -6.6957],\n",
      "        [-19.1850,  -7.8139,  -3.4815,  -6.6395,   7.0312,   3.8983,  -3.5886,\n",
      "           7.4420, -10.2318,  -6.1106],\n",
      "        [-17.1631, -14.8084,  -3.8264, -12.3424,   2.1994,  15.2037,  -7.3761,\n",
      "          10.4623, -11.3753,  -8.6721],\n",
      "        [-16.2892, -13.0499,  -2.1895,  -4.1893,   9.6683,   5.3360,  -3.2859,\n",
      "           6.0615, -15.3498,  -6.7892],\n",
      "        [ -9.0152,  -9.1102,   0.6682, -11.8134,   5.1136,   7.4823,  -5.6204,\n",
      "           3.7437,  -7.9241,  -3.6701],\n",
      "        [-20.1607,  -9.3635,  -0.3474,  -3.1217,  14.0728,   6.3130,  -5.3658,\n",
      "           5.0579, -11.8005,  -6.1924],\n",
      "        [-17.5470, -14.0707,  -9.6444,  -7.2922,  10.8728,   1.8747,  -5.9119,\n",
      "           7.1486, -14.9203,  -6.7074],\n",
      "        [-14.7743,  -9.9198,   3.2932,  -8.9233,   7.6384,   6.5976,  -4.7849,\n",
      "          -0.3332, -10.2529,  -5.2621],\n",
      "        [-11.9917,  -9.0717,   2.2905,  -2.0770,  11.9350,   4.5386,  -2.8242,\n",
      "           2.6950,  -3.1778,  -3.3227],\n",
      "        [-20.8474, -11.1727,   3.3210,  -2.4487,  13.6279,  12.5565,  -1.1015,\n",
      "           1.0696,  -7.0267,  -5.3419],\n",
      "        [-12.1445, -15.5146,  -5.5159,  -8.4220,   2.4376,   7.1608,   3.5519,\n",
      "           5.7769, -22.9999,  -9.5955],\n",
      "        [-18.4222,  -3.9394,   3.4405, -11.5471,   7.5853,  -0.9731,   6.0919,\n",
      "           0.4749, -17.8615,   0.6040],\n",
      "        [-17.5896,  -0.2654, -15.7310,   3.7407,   8.5098,   2.2753,  -9.9470,\n",
      "          13.2118, -10.9044,  -6.6846],\n",
      "        [ -1.9111,  -3.0009,   4.2463,  -6.8153,   9.5224,  16.9466,  -6.4752,\n",
      "           4.4968, -13.5122,  -5.2474],\n",
      "        [-25.1126, -12.4061,  -0.2720,  -4.2851,   6.5777,   8.2451,  -7.9487,\n",
      "          -6.7218, -13.0880,  -0.8004],\n",
      "        [-17.0316,  -4.8804,   0.5295,  -2.7639,  10.1800,   9.6733,  -6.4859,\n",
      "          -1.2629,  -9.6544,   0.9945],\n",
      "        [-12.1533,  -8.4261,  -6.6463, -13.0259,  11.1048,   9.2491,  -3.9105,\n",
      "          10.2249, -14.8464,  -6.7472],\n",
      "        [ -0.4439,  -8.8363,   2.7757,  -2.0023,  10.6505,   7.0221,  -8.8928,\n",
      "           7.0399,  -8.4741, -11.7521],\n",
      "        [-13.7039,  -9.4005,  -5.7241,  -9.1615,   9.0287,   5.8297,  -9.0508,\n",
      "           4.9667, -15.3214,  -7.9179],\n",
      "        [ -6.0777,  -3.8929,   8.8915,  -4.9093,   3.4258,  13.9558,  -6.5018,\n",
      "          -1.4492,  -3.2934,  -3.9683],\n",
      "        [-11.4822, -15.4321,   1.5572,  -9.8214,   1.4815,  12.1061,   0.3256,\n",
      "          13.5279,  -9.7132,  -6.6104],\n",
      "        [-23.5004, -13.5847,   5.7058,  -6.3444,   4.7381,   8.4734,   1.1795,\n",
      "           6.4756,  -9.2735,  -2.9692],\n",
      "        [-14.2162,  -6.5543,  -2.8217, -13.4495,   8.5536,   2.5559, -10.8821,\n",
      "           0.4347,  -7.1850,  -0.7229],\n",
      "        [-15.1155,  -8.0884,   4.7338,  -2.4803,   3.4871,  10.5906,  -6.5101,\n",
      "          -5.7668, -10.2266,  -4.3491],\n",
      "        [ -6.5805, -19.6096,   0.8791,  -4.9245,   8.7970,  17.1272,  14.5626,\n",
      "           2.5057, -15.4968,   0.1376],\n",
      "        [-20.4080,  -8.8587,  -4.8262, -12.3824,  10.5214,   3.9367,  -3.4610,\n",
      "           3.1166, -13.6960,  -2.4193],\n",
      "        [-21.7780,  -2.4000,  -2.5433,   3.6371,  10.8324,  13.0742, -16.6524,\n",
      "         -16.7779, -12.6468,   2.4061],\n",
      "        [-14.5614,  -0.4941,  -1.8777, -13.6154,   8.5719,   5.6994,   1.0352,\n",
      "          10.5007, -12.3263,  -3.7039],\n",
      "        [-17.6658, -11.8620,   3.2722, -13.7457,   1.5881,  10.2387,  -0.5845,\n",
      "           4.3264, -16.5659,  -0.6249],\n",
      "        [-13.7897,  -2.4328,   9.2844,  -4.8777,   5.8139,   9.9956, -10.3809,\n",
      "          -3.0256, -11.8514,   5.6185],\n",
      "        [-22.5922,  -6.7445,  -2.0329, -13.9770,   3.9544,   5.0645,  -7.7805,\n",
      "           5.0982, -12.3709,   1.9487],\n",
      "        [-21.9089,  -3.1919,   1.0526, -14.5228,  11.3097,   6.6842,  -8.5504,\n",
      "          -2.4467, -17.1970,  -7.1942]])\n"
     ]
    }
   ],
   "source": [
    "import torch\n",
    "from torchvision import datasets, transforms\n",
    "\n",
    "# Define a transform to normalize the data\n",
    "transform = transforms.Compose([\n",
    "    transforms.ToTensor(),\n",
    "    transforms.Normalize((0.5,), (0.5,))\n",
    "])\n",
    "\n",
    "# Download and load the training data\n",
    "trainset = datasets.MNIST('~/.pytorch/MNIST_data/', download=True, train=True, transform=transform)\n",
    "trainloader = torch.utils.data.DataLoader(trainset, batch_size=64, shuffle=True)\n",
    "\n",
    "# Get a batch of training data\n",
    "dataiter = iter(trainloader)\n",
    "images, labels = next(dataiter)\n",
    "\n",
    "# Flatten the batch of images\n",
    "features = images.view(images.shape[0], -1)\n",
    "\n",
    "# Activation function\n",
    "def activation(x):\n",
    "    \"\"\"Sigmoid activation function.\"\"\"\n",
    "    return 1 / (1 + torch.exp(-x))\n",
    "\n",
    "# Neural network\n",
    "def multi_layer_nw(input_units, hidden_units, output_units):\n",
    "    \"\"\"Create a multi-layer network with input, hidden, and output units.\"\"\"\n",
    "    torch.manual_seed(7)  # Set the random seed so things are predictable\n",
    "\n",
    "    # Define the size of each layer in our network\n",
    "    n_input = input_units  # Number of input units, must match number of input features\n",
    "    n_hidden = hidden_units  # Number of hidden units\n",
    "    n_output = output_units  # Number of output units\n",
    "\n",
    "    # Weights for inputs to hidden layer\n",
    "    w1 = torch.randn(n_input, n_hidden)\n",
    "    # Weights for hidden layer to output layer\n",
    "    w2 = torch.randn(n_hidden, n_output)\n",
    "\n",
    "    # and bias terms for hidden and output layers\n",
    "    b1 = torch.randn((1, n_hidden))\n",
    "    b2 = torch.randn((1, n_output))\n",
    "\n",
    "    return w1, w2, b1, b2\n",
    "\n",
    "def calc_output(features, w1, w2, b1, b2):\n",
    "    \"\"\"Calculate the output of the network.\"\"\"\n",
    "    h = activation(torch.matmul(features, w1) + b1)\n",
    "    return torch.matmul(h, w2) + b2  # No activation on the output layer\n",
    "\n",
    "# Features are flattened batch input\n",
    "w1, w2, b1, b2 = multi_layer_nw(features.shape[1], 256, 10)\n",
    "\n",
    "out = calc_output(features, w1, w2, b1, b2)  # output of your network, should have shape (64, 10)\n",
    "\n",
    "print(out)"
   ]
  },
  {
   "cell_type": "markdown",
   "metadata": {},
   "source": [
    "Now we have 10 outputs for our network. We want to pass in an image to our network and get out a probability distribution over the classes that tells us the likely class(es) the image belongs to. Something that looks like this:\n",
    "<img src='assets/image_distribution.png' width=500px>\n",
    "\n",
    "Here we see that the probability for each class is roughly the same. This is representing an untrained network, it hasn't seen any data yet so it just returns a uniform distribution with equal probabilities for each class.\n",
    "\n",
    "To calculate this probability distribution, we often use the [**softmax** function](https://en.wikipedia.org/wiki/Softmax_function). Mathematically this looks like\n",
    "\n",
    "$$\n",
    "\\Large \\sigma(x_i) = \\cfrac{e^{x_i}}{\\sum_k^K{e^{x_k}}}\n",
    "$$\n",
    "\n",
    "What this does is squish each input $x_i$ between 0 and 1 and normalizes the values to give you a proper probability distribution where the probabilities sum up to one.\n",
    "\n",
    "> **Exercise:** Implement a function `softmax` that performs the softmax calculation and returns probability distributions for each example in the batch. Note that you'll need to pay attention to the shapes when doing this. If you have a tensor `a` with shape `(64, 10)` and a tensor `b` with shape `(64,)`, doing `a/b` will give you an error because PyTorch will try to do the division across the columns (called broadcasting) but you'll get a size mismatch. The way to think about this is for each of the 64 examples, you only want to divide by one value, the sum in the denominator. So you need `b` to have a shape of `(64, 1)`. This way PyTorch will divide the 10 values in each row of `a` by the one value in each row of `b`. Pay attention to how you take the sum as well. You'll need to define the `dim` keyword in `torch.sum`. Setting `dim=0` takes the sum across the rows while `dim=1` takes the sum across the columns."
   ]
  },
  {
   "cell_type": "code",
   "execution_count": 10,
   "metadata": {
    "collapsed": true
   },
   "outputs": [
    {
     "name": "stdout",
     "output_type": "stream",
     "text": [
      "torch.Size([64, 10])\n",
      "tensor([1.0000, 1.0000, 1.0000, 1.0000, 1.0000, 1.0000, 1.0000, 1.0000, 1.0000,\n",
      "        1.0000, 1.0000, 1.0000, 1.0000, 1.0000, 1.0000, 1.0000, 1.0000, 1.0000,\n",
      "        1.0000, 1.0000, 1.0000, 1.0000, 1.0000, 1.0000, 1.0000, 1.0000, 1.0000,\n",
      "        1.0000, 1.0000, 1.0000, 1.0000, 1.0000, 1.0000, 1.0000, 1.0000, 1.0000,\n",
      "        1.0000, 1.0000, 1.0000, 1.0000, 1.0000, 1.0000, 1.0000, 1.0000, 1.0000,\n",
      "        1.0000, 1.0000, 1.0000, 1.0000, 1.0000, 1.0000, 1.0000, 1.0000, 1.0000,\n",
      "        1.0000, 1.0000, 1.0000, 1.0000, 1.0000, 1.0000, 1.0000, 1.0000, 1.0000,\n",
      "        1.0000])\n"
     ]
    }
   ],
   "source": [
    "import torch\n",
    "from torchvision import datasets, transforms\n",
    "\n",
    "# Define a transform to normalize the data\n",
    "transform = transforms.Compose([\n",
    "    transforms.ToTensor(),\n",
    "    transforms.Normalize((0.5,), (0.5,))\n",
    "])\n",
    "\n",
    "# Download and load the training data\n",
    "trainset = datasets.MNIST('~/.pytorch/MNIST_data/', download=True, train=True, transform=transform)\n",
    "trainloader = torch.utils.data.DataLoader(trainset, batch_size=64, shuffle=True)\n",
    "\n",
    "# Get a batch of training data\n",
    "dataiter = iter(trainloader)\n",
    "images, labels = next(dataiter)\n",
    "\n",
    "# Flatten the batch of images\n",
    "features = images.view(images.shape[0], -1)\n",
    "\n",
    "# Activation function\n",
    "def activation(x):\n",
    "    \"\"\"Sigmoid activation function.\"\"\"\n",
    "    return 1 / (1 + torch.exp(-x))\n",
    "\n",
    "# Neural network\n",
    "def multi_layer_nw(input_units, hidden_units, output_units):\n",
    "    \"\"\"Create a multi-layer network with input, hidden, and output units.\"\"\"\n",
    "    torch.manual_seed(7)  # Set the random seed so things are predictable\n",
    "\n",
    "    # Define the size of each layer in our network\n",
    "    n_input = input_units  # Number of input units, must match number of input features\n",
    "    n_hidden = hidden_units  # Number of hidden units\n",
    "    n_output = output_units  # Number of output units\n",
    "\n",
    "    # Weights for inputs to hidden layer\n",
    "    w1 = torch.randn(n_input, n_hidden)\n",
    "    # Weights for hidden layer to output layer\n",
    "    w2 = torch.randn(n_hidden, n_output)\n",
    "\n",
    "    # and bias terms for hidden and output layers\n",
    "    b1 = torch.randn((1, n_hidden))\n",
    "    b2 = torch.randn((1, n_output))\n",
    "\n",
    "    return w1, w2, b1, b2\n",
    "\n",
    "def calc_output(features, w1, w2, b1, b2):\n",
    "    \"\"\"Calculate the output of the network.\"\"\"\n",
    "    h = activation(torch.matmul(features, w1) + b1)\n",
    "    return torch.matmul(h, w2) + b2  # No activation on the output layer\n",
    "\n",
    "# Softmax function\n",
    "def softmax(x):\n",
    "    \"\"\"Compute softmax values for each set of scores in x.\"\"\"\n",
    "    exp_x = torch.exp(x)\n",
    "    sum_exp_x = torch.sum(exp_x, dim=1, keepdim=True)\n",
    "    return exp_x / sum_exp_x\n",
    "\n",
    "# Features are flattened batch input\n",
    "w1, w2, b1, b2 = multi_layer_nw(features.shape[1], 256, 10)\n",
    "\n",
    "out = calc_output(features, w1, w2, b1, b2)  # output of your network, should have shape (64, 10)\n",
    "\n",
    "# Calculate the probabilities using softmax\n",
    "probabilities = softmax(out)\n",
    "\n",
    "# Does it have the right shape? Should be (64, 10)\n",
    "print(probabilities.shape)\n",
    "# Does it sum to 1?\n",
    "print(probabilities.sum(dim=1))"
   ]
  },
  {
   "cell_type": "markdown",
   "metadata": {},
   "source": [
    "## Building networks with PyTorch\n",
    "\n",
    "PyTorch provides a module `nn` that makes building networks much simpler. Here I'll show you how to build the same one as above with 784 inputs, 256 hidden units, 10 output units and a softmax output."
   ]
  },
  {
   "cell_type": "code",
   "execution_count": 11,
   "metadata": {
    "collapsed": true
   },
   "outputs": [],
   "source": [
    "from torch import nn"
   ]
  },
  {
   "cell_type": "code",
   "execution_count": 12,
   "metadata": {
    "collapsed": true
   },
   "outputs": [],
   "source": [
    "class Network(nn.Module):\n",
    "    \"\"\"Basic Neural Network with 1 hidden layer.\"\"\"\n",
    "\n",
    "    def __init__(self) -> None:\n",
    "        super().__init__()\n",
    "\n",
    "        # Inputs to hidden layer linear transformation\n",
    "        self.hidden = nn.Linear(784, 256)\n",
    "        # Output layer, 10 units - one for each digit\n",
    "        self.output = nn.Linear(256, 10)\n",
    "\n",
    "        # Define sigmoid activation and softmax output\n",
    "        self.sigmoid = nn.Sigmoid()\n",
    "        self.softmax = nn.Softmax(dim=1)\n",
    "\n",
    "    def forward(self, x):\n",
    "        \"\"\"Forward pass through the network, returns the output logits.\"\"\"\n",
    "        # Pass the input tensor through each of our operations\n",
    "        x = self.hidden(x)\n",
    "        x = self.sigmoid(x)\n",
    "        x = self.output(x)\n",
    "        return self.softmax(x)"
   ]
  },
  {
   "cell_type": "markdown",
   "metadata": {},
   "source": [
    "Let's go through this bit by bit.\n",
    "\n",
    "```python\n",
    "class Network(nn.Module):\n",
    "```\n",
    "\n",
    "Here we're inheriting from `nn.Module`. Combined with `super().__init__()` this creates a class that tracks the architecture and provides a lot of useful methods and attributes. It is mandatory to inherit from `nn.Module` when you're creating a class for your network. The name of the class itself can be anything.\n",
    "\n",
    "```python\n",
    "self.hidden = nn.Linear(784, 256)\n",
    "```\n",
    "\n",
    "This line creates a module for a linear transformation, $x\\mathbf{W} + b$, with 784 inputs and 256 outputs and assigns it to `self.hidden`. The module automatically creates the weight and bias tensors which we'll use in the `forward` method. You can access the weight and bias tensors once the network (`net`) is created with `net.hidden.weight` and `net.hidden.bias`.\n",
    "\n",
    "```python\n",
    "self.output = nn.Linear(256, 10)\n",
    "```\n",
    "\n",
    "Similarly, this creates another linear transformation with 256 inputs and 10 outputs.\n",
    "\n",
    "```python\n",
    "self.sigmoid = nn.Sigmoid()\n",
    "self.softmax = nn.Softmax(dim=1)\n",
    "```\n",
    "\n",
    "Here I defined operations for the sigmoid activation and softmax output. Setting `dim=1` in `nn.Softmax(dim=1)` calculates softmax across the columns.\n",
    "\n",
    "```python\n",
    "def forward(self, x):\n",
    "```\n",
    "\n",
    "PyTorch networks created with `nn.Module` must have a `forward` method defined. It takes in a tensor `x` and passes it through the operations you defined in the `__init__` method.\n",
    "\n",
    "```python\n",
    "x = self.hidden(x)\n",
    "x = self.sigmoid(x)\n",
    "x = self.output(x)\n",
    "x = self.softmax(x)\n",
    "```\n",
    "\n",
    "Here the input tensor `x` is passed through each operation and reassigned to `x`. We can see that the input tensor goes through the hidden layer, then a sigmoid function, then the output layer, and finally the softmax function. It doesn't matter what you name the variables here, as long as the inputs and outputs of the operations match the network architecture you want to build. The order in which you define things in the `__init__` method doesn't matter, but you'll need to sequence the operations correctly in the `forward` method.\n",
    "\n",
    "Now we can create a `Network` object."
   ]
  },
  {
   "cell_type": "code",
   "execution_count": 13,
   "metadata": {
    "collapsed": true
   },
   "outputs": [
    {
     "data": {
      "text/plain": [
       "Network(\n",
       "  (hidden): Linear(in_features=784, out_features=256, bias=True)\n",
       "  (output): Linear(in_features=256, out_features=10, bias=True)\n",
       "  (sigmoid): Sigmoid()\n",
       "  (softmax): Softmax(dim=1)\n",
       ")"
      ]
     },
     "execution_count": 13,
     "metadata": {},
     "output_type": "execute_result"
    }
   ],
   "source": [
    "# Create the network and look at its text representation\n",
    "model = Network()\n",
    "model"
   ]
  },
  {
   "cell_type": "markdown",
   "metadata": {},
   "source": [
    "You can define the network somewhat more concisely and clearly using the `torch.nn.functional` module. This is the most common way you'll see networks defined as many operations are simple element-wise functions. We normally import this module as `F`, `import torch.nn.functional as F`."
   ]
  },
  {
   "cell_type": "code",
   "execution_count": 14,
   "metadata": {
    "collapsed": true
   },
   "outputs": [],
   "source": [
    "from torch.nn.functional import sigmoid, softmax\n",
    "\n",
    "\n",
    "class Network(nn.Module):\n",
    "    \"\"\"Basic Neural Network with 1 hidden layer.\"\"\"\n",
    "\n",
    "    def __init__(self) -> None:\n",
    "        super().__init__()\n",
    "        # Inputs to hidden layer linear transformation\n",
    "        self.hidden = nn.Linear(784, 256)\n",
    "        # Output layer, 10 units - one for each digit\n",
    "        self.output = nn.Linear(256, 10)\n",
    "\n",
    "    def forward(self, x):\n",
    "        \"\"\"Forward pass through the network, returns the output logits.\"\"\"\n",
    "        # Hidden layer with sigmoid activation\n",
    "        x = sigmoid(self.hidden(x))\n",
    "        # Output layer with softmax activation\n",
    "        return softmax(self.output(x), dim=1)"
   ]
  },
  {
   "cell_type": "markdown",
   "metadata": {},
   "source": [
    "### Activation functions\n",
    "\n",
    "So far we've only been looking at the sigmoid activation function, but in general any function can be used as an activation function. The only requirement is that for a network to approximate a non-linear function, the activation functions must be non-linear. Here are a few more examples of common activation functions: Tanh (hyperbolic tangent), and ReLU (rectified linear unit).\n",
    "\n",
    "<img src=\"assets/activation.png\" width=700px>\n",
    "\n",
    "In practice, the ReLU function is used almost exclusively as the activation function for hidden layers."
   ]
  },
  {
   "cell_type": "markdown",
   "metadata": {},
   "source": [
    "### Your Turn to Build a Network\n",
    "\n",
    "<img src=\"assets/mlp_mnist.png\" width=600px>\n",
    "\n",
    "> **Exercise:** Create a network with 784 input units, a hidden layer with 128 units and a ReLU activation, then a hidden layer with 64 units and a ReLU activation, and finally an output layer with a softmax activation as shown above. You can use a ReLU activation with the `nn.ReLU` module or `F.relu` function.\n",
    "\n",
    "It's good practice to name your layers by their type of network, for instance 'fc' to represent a fully-connected layer. As you code your solution, use `fc1`, `fc2`, and `fc3` as your layer names."
   ]
  },
  {
   "cell_type": "code",
   "execution_count": 15,
   "metadata": {
    "collapsed": true,
    "scrolled": true
   },
   "outputs": [
    {
     "name": "stdout",
     "output_type": "stream",
     "text": [
      "NeuralNetwork(\n",
      "  (fc1): Linear(in_features=784, out_features=128, bias=True)\n",
      "  (fc2): Linear(in_features=128, out_features=64, bias=True)\n",
      "  (fc3): Linear(in_features=64, out_features=10, bias=True)\n",
      ")\n"
     ]
    }
   ],
   "source": [
    "## Your solution here\n",
    "\n",
    "import torch\n",
    "import torch.nn as nn\n",
    "import torch.nn.functional as F\n",
    "\n",
    "class NeuralNetwork(nn.Module):\n",
    "    def __init__(self):\n",
    "        super(NeuralNetwork, self).__init__()\n",
    "        # Define the layers\n",
    "        self.fc1 = nn.Linear(784, 128)  # Fully connected layer 1\n",
    "        self.fc2 = nn.Linear(128, 64)   # Fully connected layer 2\n",
    "        self.fc3 = nn.Linear(64, 10)    # Fully connected layer 3 (output layer)\n",
    "\n",
    "    def forward(self, x):\n",
    "        # Flatten the input tensor\n",
    "        x = x.view(x.shape[0], -1)\n",
    "        # Pass through the first layer and apply ReLU activation\n",
    "        x = F.relu(self.fc1(x))\n",
    "        # Pass through the second layer and apply ReLU activation\n",
    "        x = F.relu(self.fc2(x))\n",
    "        # Pass through the third layer (output layer) and apply softmax activation\n",
    "        x = F.log_softmax(self.fc3(x), dim=1)\n",
    "        return x\n",
    "\n",
    "# Instantiate the network\n",
    "model = NeuralNetwork()\n",
    "\n",
    "# Print the model architecture\n",
    "print(model)\n"
   ]
  },
  {
   "cell_type": "markdown",
   "metadata": {},
   "source": [
    "### Initializing weights and biases\n",
    "\n",
    "The weights and such are automatically initialized for you, but it's possible to customize how they are initialized. The weights and biases are tensors attached to the layer you defined, you can get them with `model.fc1.weight` for instance."
   ]
  },
  {
   "cell_type": "code",
   "execution_count": 16,
   "metadata": {
    "collapsed": true
   },
   "outputs": [
    {
     "name": "stdout",
     "output_type": "stream",
     "text": [
      "Parameter containing:\n",
      "tensor([[ 0.0019,  0.0005, -0.0266,  ...,  0.0021,  0.0257,  0.0180],\n",
      "        [-0.0291,  0.0194,  0.0033,  ..., -0.0058, -0.0152, -0.0074],\n",
      "        [-0.0255,  0.0141, -0.0173,  ..., -0.0066,  0.0269,  0.0035],\n",
      "        ...,\n",
      "        [-0.0114,  0.0222,  0.0197,  ...,  0.0243,  0.0304,  0.0111],\n",
      "        [-0.0090, -0.0345, -0.0355,  ..., -0.0130,  0.0239, -0.0339],\n",
      "        [ 0.0088,  0.0205,  0.0327,  ..., -0.0091,  0.0315,  0.0055]],\n",
      "       requires_grad=True)\n",
      "Parameter containing:\n",
      "tensor([-0.0006, -0.0100,  0.0276, -0.0134, -0.0039,  0.0245, -0.0207,  0.0039,\n",
      "        -0.0155,  0.0004,  0.0028, -0.0305,  0.0163,  0.0109, -0.0037,  0.0187,\n",
      "         0.0095,  0.0269, -0.0096, -0.0019, -0.0355,  0.0344,  0.0178, -0.0305,\n",
      "        -0.0307, -0.0113, -0.0355,  0.0336, -0.0058, -0.0032,  0.0309,  0.0017,\n",
      "         0.0203, -0.0101,  0.0036, -0.0251, -0.0256, -0.0087,  0.0092, -0.0355,\n",
      "         0.0127, -0.0146, -0.0254, -0.0126, -0.0269,  0.0212,  0.0112, -0.0237,\n",
      "         0.0278,  0.0016, -0.0003,  0.0029, -0.0072,  0.0156,  0.0173, -0.0053,\n",
      "         0.0148,  0.0055,  0.0167, -0.0079,  0.0071,  0.0239,  0.0309,  0.0081,\n",
      "         0.0260,  0.0178, -0.0177,  0.0286, -0.0192,  0.0316, -0.0331, -0.0061,\n",
      "        -0.0203, -0.0219,  0.0069, -0.0191,  0.0133, -0.0211,  0.0017,  0.0135,\n",
      "        -0.0236, -0.0094,  0.0270,  0.0357, -0.0104,  0.0139,  0.0025, -0.0290,\n",
      "         0.0053, -0.0285,  0.0193, -0.0171,  0.0198,  0.0064,  0.0045,  0.0033,\n",
      "        -0.0205, -0.0122,  0.0348, -0.0299, -0.0246,  0.0097, -0.0101, -0.0285,\n",
      "         0.0185,  0.0236,  0.0244, -0.0269, -0.0338, -0.0353,  0.0282,  0.0088,\n",
      "        -0.0025, -0.0083, -0.0050,  0.0320, -0.0272, -0.0181,  0.0189,  0.0148,\n",
      "        -0.0171, -0.0174, -0.0209, -0.0208, -0.0314, -0.0042, -0.0348, -0.0181],\n",
      "       requires_grad=True)\n"
     ]
    }
   ],
   "source": [
    "print(model.fc1.weight)\n",
    "print(model.fc1.bias)"
   ]
  },
  {
   "cell_type": "markdown",
   "metadata": {},
   "source": [
    "For custom initialization, we want to modify these tensors in place. These are actually autograd *Variables*, so we need to get back the actual tensors with `model.fc1.weight.data`. Once we have the tensors, we can fill them with zeros (for biases) or random normal values."
   ]
  },
  {
   "cell_type": "code",
   "execution_count": 17,
   "metadata": {
    "collapsed": true
   },
   "outputs": [
    {
     "data": {
      "text/plain": [
       "tensor([0., 0., 0., 0., 0., 0., 0., 0., 0., 0., 0., 0., 0., 0., 0., 0., 0., 0., 0., 0., 0., 0., 0., 0.,\n",
       "        0., 0., 0., 0., 0., 0., 0., 0., 0., 0., 0., 0., 0., 0., 0., 0., 0., 0., 0., 0., 0., 0., 0., 0.,\n",
       "        0., 0., 0., 0., 0., 0., 0., 0., 0., 0., 0., 0., 0., 0., 0., 0., 0., 0., 0., 0., 0., 0., 0., 0.,\n",
       "        0., 0., 0., 0., 0., 0., 0., 0., 0., 0., 0., 0., 0., 0., 0., 0., 0., 0., 0., 0., 0., 0., 0., 0.,\n",
       "        0., 0., 0., 0., 0., 0., 0., 0., 0., 0., 0., 0., 0., 0., 0., 0., 0., 0., 0., 0., 0., 0., 0., 0.,\n",
       "        0., 0., 0., 0., 0., 0., 0., 0.])"
      ]
     },
     "execution_count": 17,
     "metadata": {},
     "output_type": "execute_result"
    }
   ],
   "source": [
    "# Set biases to all zeros\n",
    "model.fc1.bias.data.fill_(0)"
   ]
  },
  {
   "cell_type": "code",
   "execution_count": 18,
   "metadata": {
    "collapsed": true
   },
   "outputs": [
    {
     "data": {
      "text/plain": [
       "tensor([[ 0.0013, -0.0097, -0.0107,  ...,  0.0088, -0.0066,  0.0040],\n",
       "        [-0.0093,  0.0021,  0.0107,  ...,  0.0003,  0.0007,  0.0027],\n",
       "        [ 0.0085, -0.0038,  0.0023,  ..., -0.0218, -0.0126,  0.0017],\n",
       "        ...,\n",
       "        [ 0.0034, -0.0230,  0.0046,  ...,  0.0049, -0.0056,  0.0109],\n",
       "        [-0.0020,  0.0027, -0.0104,  ...,  0.0089, -0.0030,  0.0080],\n",
       "        [ 0.0027,  0.0078, -0.0043,  ..., -0.0089,  0.0020,  0.0119]])"
      ]
     },
     "execution_count": 18,
     "metadata": {},
     "output_type": "execute_result"
    }
   ],
   "source": [
    "# sample from random normal with standard dev = 0.01\n",
    "model.fc1.weight.data.normal_(std=0.01)"
   ]
  },
  {
   "cell_type": "markdown",
   "metadata": {},
   "source": [
    "### Forward pass\n",
    "\n",
    "Now that we have a network, let's see what happens when we pass in an image."
   ]
  },
  {
   "cell_type": "code",
   "execution_count": 26,
   "metadata": {
    "collapsed": true
   },
   "outputs": [
    {
     "data": {
      "image/png": "[encoded data removed]",
      "text/plain": [
       "<Figure size 600x900 with 2 Axes>"
      ]
     },
     "metadata": {
      "image/png": {
       "height": 327,
       "width": 589
      }
     },
     "output_type": "display_data"
    }
   ],
   "source": [
    "# Grab some data\n",
    "dataiter = iter(trainloader)\n",
    "images, labels = next(dataiter)\n",
    "\n",
    "# Resize images into a 1D vector, new shape is (batch size, color channels, image pixels)\n",
    "images.resize_(64, 1, 784)\n",
    "# or images.resize_(images.shape[0], 1, 784) to automatically get batch size\n",
    "\n",
    "# Forward pass through the network\n",
    "img_idx = 0\n",
    "ps = model.forward(images[img_idx, :])\n",
    "\n",
    "img = images[img_idx]\n",
    "helper.view_classify(img.view(1, 28, 28), ps)"
   ]
  },
  {
   "cell_type": "markdown",
   "metadata": {},
   "source": [
    "As you can see above, our network has basically no idea what this digit is. It's because we haven't trained it yet, all the weights are random!\n",
    "\n",
    "### Using `nn.Sequential`\n",
    "\n",
    "PyTorch provides a convenient way to build networks like this where a tensor is passed sequentially through operations, `nn.Sequential` ([documentation](https://pytorch.org/docs/master/nn.html#torch.nn.Sequential)). Using this to build the equivalent network:"
   ]
  },
  {
   "cell_type": "code",
   "execution_count": 27,
   "metadata": {
    "collapsed": true
   },
   "outputs": [
    {
     "name": "stdout",
     "output_type": "stream",
     "text": [
      "Sequential(\n",
      "  (0): Linear(in_features=784, out_features=128, bias=True)\n",
      "  (1): ReLU()\n",
      "  (2): Linear(in_features=128, out_features=64, bias=True)\n",
      "  (3): ReLU()\n",
      "  (4): Linear(in_features=64, out_features=10, bias=True)\n",
      "  (5): Softmax(dim=1)\n",
      ")\n"
     ]
    },
    {
     "data": {
      "image/png": "[encoded data removed]",
      "text/plain": [
       "<Figure size 600x900 with 2 Axes>"
      ]
     },
     "metadata": {
      "image/png": {
       "height": 327,
       "width": 589
      }
     },
     "output_type": "display_data"
    }
   ],
   "source": [
    "# Hyperparameters for our network\n",
    "input_size = 784\n",
    "hidden_sizes = [128, 64]\n",
    "output_size = 10\n",
    "\n",
    "# Build a feed-forward network\n",
    "model = nn.Sequential(\n",
    "    nn.Linear(input_size, hidden_sizes[0]),\n",
    "    nn.ReLU(),\n",
    "    nn.Linear(hidden_sizes[0], hidden_sizes[1]),\n",
    "    nn.ReLU(),\n",
    "    nn.Linear(hidden_sizes[1], output_size),\n",
    "    nn.Softmax(dim=1),\n",
    ")\n",
    "print(model)\n",
    "\n",
    "# Forward pass through the network and display output\n",
    "images, labels = next(iter(trainloader))\n",
    "images.resize_(images.shape[0], 1, 784)\n",
    "ps = model.forward(images[0, :])\n",
    "helper.view_classify(images[0].view(1, 28, 28), ps)"
   ]
  },
  {
   "cell_type": "markdown",
   "metadata": {},
   "source": [
    "Here our model is the same as before: 784 input units, a hidden layer with 128 units, ReLU activation, 64 unit hidden layer, another ReLU, then the output layer with 10 units, and the softmax output.\n",
    "\n",
    "The operations are available by passing in the appropriate index. For example, if you want to get first Linear operation and look at the weights, you'd use `model[0]`."
   ]
  },
  {
   "cell_type": "code",
   "execution_count": 28,
   "metadata": {
    "collapsed": true
   },
   "outputs": [
    {
     "name": "stdout",
     "output_type": "stream",
     "text": [
      "Linear(in_features=784, out_features=128, bias=True)\n"
     ]
    },
    {
     "data": {
      "text/plain": [
       "Parameter containing:\n",
       "tensor([[-0.0004,  0.0084, -0.0140,  ...,  0.0209, -0.0290, -0.0266],\n",
       "        [ 0.0115, -0.0105,  0.0134,  ...,  0.0131, -0.0149, -0.0293],\n",
       "        [ 0.0188,  0.0084,  0.0184,  ..., -0.0128, -0.0002,  0.0286],\n",
       "        ...,\n",
       "        [-0.0038,  0.0022, -0.0176,  ..., -0.0315,  0.0196, -0.0237],\n",
       "        [ 0.0267,  0.0147,  0.0124,  ..., -0.0344,  0.0205, -0.0291],\n",
       "        [ 0.0122,  0.0208, -0.0037,  ...,  0.0108,  0.0289,  0.0338]],\n",
       "       requires_grad=True)"
      ]
     },
     "execution_count": 28,
     "metadata": {},
     "output_type": "execute_result"
    }
   ],
   "source": [
    "print(model[0])\n",
    "model[0].weight"
   ]
  },
  {
   "cell_type": "markdown",
   "metadata": {},
   "source": [
    "You can also pass in an `OrderedDict` to name the individual layers and operations, instead of using incremental integers. Note that dictionary keys must be unique, so _each operation must have a different name_."
   ]
  },
  {
   "cell_type": "code",
   "execution_count": 29,
   "metadata": {
    "collapsed": true
   },
   "outputs": [
    {
     "data": {
      "text/plain": [
       "Sequential(\n",
       "  (fc1): Linear(in_features=784, out_features=128, bias=True)\n",
       "  (relu1): ReLU()\n",
       "  (fc2): Linear(in_features=128, out_features=64, bias=True)\n",
       "  (relu2): ReLU()\n",
       "  (output): Linear(in_features=64, out_features=10, bias=True)\n",
       "  (softmax): Softmax(dim=1)\n",
       ")"
      ]
     },
     "execution_count": 29,
     "metadata": {},
     "output_type": "execute_result"
    }
   ],
   "source": [
    "from collections import OrderedDict\n",
    "\n",
    "model = nn.Sequential(\n",
    "    OrderedDict(\n",
    "        [\n",
    "            (\"fc1\", nn.Linear(input_size, hidden_sizes[0])),\n",
    "            (\"relu1\", nn.ReLU()),\n",
    "            (\"fc2\", nn.Linear(hidden_sizes[0], hidden_sizes[1])),\n",
    "            (\"relu2\", nn.ReLU()),\n",
    "            (\"output\", nn.Linear(hidden_sizes[1], output_size)),\n",
    "            (\"softmax\", nn.Softmax(dim=1)),\n",
    "        ],\n",
    "    ),\n",
    ")\n",
    "model"
   ]
  },
  {
   "cell_type": "markdown",
   "metadata": {},
   "source": [
    "Now you can access layers either by integer or the name"
   ]
  },
  {
   "cell_type": "code",
   "execution_count": 30,
   "metadata": {
    "collapsed": true
   },
   "outputs": [
    {
     "name": "stdout",
     "output_type": "stream",
     "text": [
      "Linear(in_features=784, out_features=128, bias=True)\n",
      "Linear(in_features=784, out_features=128, bias=True)\n"
     ]
    }
   ],
   "source": [
    "print(model[0])\n",
    "print(model.fc1)"
   ]
  },
  {
   "cell_type": "markdown",
   "metadata": {},
   "source": [
    "In the next notebook, we'll see how we can train a neural network to accuractly predict the numbers appearing in the MNIST images."
   ]
  }
 ],
 "metadata": {
  "kernelspec": {
   "display_name": "dtu_mlops",
   "language": "python",
   "name": "python3"
  },
  "language_info": {
   "codemirror_mode": {
    "name": "ipython",
    "version": 3
   },
   "file_extension": ".py",
   "mimetype": "text/x-python",
   "name": "python",
   "nbconvert_exporter": "python",
   "pygments_lexer": "ipython3",
   "version": "3.11.11"
  }
 },
 "nbformat": 4,
 "nbformat_minor": 2
}
